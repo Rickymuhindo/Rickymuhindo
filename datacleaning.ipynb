{
  "cells": [
    {
      "cell_type": "markdown",
      "metadata": {
        "id": "view-in-github",
        "colab_type": "text"
      },
      "source": [
        "<a href=\"https://colab.research.google.com/github/Rickymuhindo/Rickymuhindo/blob/main/datacleaning.ipynb\" target=\"_parent\"><img src=\"https://colab.research.google.com/assets/colab-badge.svg\" alt=\"Open In Colab\"/></a>"
      ]
    },
    {
      "cell_type": "code",
      "execution_count": null,
      "id": "43f98cfd",
      "metadata": {
        "id": "43f98cfd",
        "outputId": "c381e7fd-903a-4a3e-c73a-169613e03db7"
      },
      "outputs": [
        {
          "data": {
            "text/plain": [
              "3"
            ]
          },
          "execution_count": 1,
          "metadata": {},
          "output_type": "execute_result"
        }
      ],
      "source": [
        "1*3"
      ]
    },
    {
      "cell_type": "code",
      "execution_count": null,
      "id": "b7dc79a5",
      "metadata": {
        "id": "b7dc79a5"
      },
      "outputs": [],
      "source": [
        "import numpy as np\n",
        "import pandas as pd\n",
        "import matplotlib.pyplot as plt\n",
        "import os\n",
        "import nltk\n",
        "import re\n"
      ]
    },
    {
      "cell_type": "code",
      "execution_count": null,
      "id": "c851e4b1",
      "metadata": {
        "id": "c851e4b1"
      },
      "outputs": [],
      "source": [
        "matplotlib inline"
      ]
    },
    {
      "cell_type": "code",
      "execution_count": null,
      "id": "eca80329",
      "metadata": {
        "id": "eca80329",
        "outputId": "59e2bf0d-0ddc-4260-8d25-e18a5a466706"
      },
      "outputs": [
        {
          "name": "stdout",
          "output_type": "stream",
          "text": [
            "/bin/bash: data/sales_data.csv: No such file or directory\r\n"
          ]
        }
      ],
      "source": [
        "!data/sales_data.csv"
      ]
    },
    {
      "cell_type": "code",
      "execution_count": null,
      "id": "2f66a6ba",
      "metadata": {
        "id": "2f66a6ba",
        "outputId": "e79d5876-15ae-4754-80ef-076b18178c2e"
      },
      "outputs": [
        {
          "name": "stderr",
          "output_type": "stream",
          "text": [
            "/home/ricky/.local/lib/python3.8/site-packages/IPython/core/interactiveshell.py:3257: DtypeWarning: Columns (10) have mixed types. Specify dtype option on import or set low_memory=False.\n",
            "  has_raised = await self.run_ast_nodes(code_ast.body, cell_name,\n"
          ]
        }
      ],
      "source": [
        "df = pd.read_csv(\"/home/ricky/jupyter_dir/Cell_Phones_and_Accessories_5.csv\")"
      ]
    },
    {
      "cell_type": "code",
      "execution_count": null,
      "id": "7c86bf44",
      "metadata": {
        "id": "7c86bf44",
        "outputId": "d90db193-8534-459e-a7e7-7aa902eaf743"
      },
      "outputs": [
        {
          "name": "stdout",
          "output_type": "stream",
          "text": [
            "   overall  verified   reviewTime      reviewerID        asin  \\\n",
            "0        5      True   08 4, 2014  A24E3SXTC62LJI  7508492919   \n",
            "1        5      True  02 12, 2014  A269FLZCB4GIPV  7508492919   \n",
            "2        3      True   02 8, 2014   AB6CHQWHZW4TV  7508492919   \n",
            "3        2      True   02 4, 2014   A1M117A53LEI8  7508492919   \n",
            "4        4      True   02 3, 2014  A272DUT8M88ZS8  7508492919   \n",
            "\n",
            "                  style      reviewerName  \\\n",
            "0  {'Color:': ' Bling'}  Claudia Valdivia   \n",
            "1                   NaN       sarah ponce   \n",
            "2                   NaN               Kai   \n",
            "3                   NaN   Sharon Williams   \n",
            "4                   NaN   Bella Rodriguez   \n",
            "\n",
            "                                          reviewText  \\\n",
            "0  Looks even better in person. Be careful to not...   \n",
            "1  When you don't want to spend a whole lot of ca...   \n",
            "2  so the case came on time, i love the design. I...   \n",
            "3  DON'T CARE FOR IT.  GAVE IT AS A GIFT AND THEY...   \n",
            "4  I liked it because it was cute, but the studs ...   \n",
            "\n",
            "                               summary  unixReviewTime vote image  \n",
            "0  Can't stop won't stop looking at it      1407110400  NaN   NaN  \n",
            "1                                    1      1392163200  NaN   NaN  \n",
            "2                             Its okay      1391817600  NaN   NaN  \n",
            "3                                 CASE      1391472000  NaN   NaN  \n",
            "4                                Cute!      1391385600  NaN   NaN  \n"
          ]
        }
      ],
      "source": [
        "print(df.head())"
      ]
    },
    {
      "cell_type": "code",
      "execution_count": null,
      "id": "6f68f83f",
      "metadata": {
        "id": "6f68f83f",
        "outputId": "ff9d4b91-92ed-463d-a1b5-97e6360af0c2"
      },
      "outputs": [
        {
          "data": {
            "text/plain": [
              "(1128437, 12)"
            ]
          },
          "execution_count": 12,
          "metadata": {},
          "output_type": "execute_result"
        }
      ],
      "source": [
        "df.shape"
      ]
    },
    {
      "cell_type": "code",
      "execution_count": null,
      "id": "eff91233",
      "metadata": {
        "id": "eff91233",
        "outputId": "06bf7cd6-9510-45bc-e7ad-c29503220961"
      },
      "outputs": [
        {
          "data": {
            "text/plain": [
              "<bound method DataFrame.info of          overall  verified   reviewTime      reviewerID        asin  \\\n",
              "0              5      True   08 4, 2014  A24E3SXTC62LJI  7508492919   \n",
              "1              5      True  02 12, 2014  A269FLZCB4GIPV  7508492919   \n",
              "2              3      True   02 8, 2014   AB6CHQWHZW4TV  7508492919   \n",
              "3              2      True   02 4, 2014   A1M117A53LEI8  7508492919   \n",
              "4              4      True   02 3, 2014  A272DUT8M88ZS8  7508492919   \n",
              "...          ...       ...          ...             ...         ...   \n",
              "1128432        4      True  12 22, 2016  A1QWMCG1FNEP3A  B01HJC7N4C   \n",
              "1128433        5     False  07 15, 2016  A3FOBEJ9UVUTR3  B01HJC7N4C   \n",
              "1128434        5     False  07 14, 2016   AMUEAMKB4E33M  B01HJC7N4C   \n",
              "1128435        5     False  07 13, 2016  A2EV91MMOJ3IL4  B01HJC7N4C   \n",
              "1128436        5      True  05 11, 2017   ARKQD9Z1VPOV2  B01HJH9IN6   \n",
              "\n",
              "                        style      reviewerName  \\\n",
              "0        {'Color:': ' Bling'}  Claudia Valdivia   \n",
              "1                         NaN       sarah ponce   \n",
              "2                         NaN               Kai   \n",
              "3                         NaN   Sharon Williams   \n",
              "4                         NaN   Bella Rodriguez   \n",
              "...                       ...               ...   \n",
              "1128432                   NaN   Amazon Customer   \n",
              "1128433                   NaN      David Harlow   \n",
              "1128434                   NaN             Tom D   \n",
              "1128435                   NaN          Timber12   \n",
              "1128436                   NaN         Malfacini   \n",
              "\n",
              "                                                reviewText  \\\n",
              "0        Looks even better in person. Be careful to not...   \n",
              "1        When you don't want to spend a whole lot of ca...   \n",
              "2        so the case came on time, i love the design. I...   \n",
              "3        DON'T CARE FOR IT.  GAVE IT AS A GIFT AND THEY...   \n",
              "4        I liked it because it was cute, but the studs ...   \n",
              "...                                                    ...   \n",
              "1128432  Good for viewing. But doesn't have a button or...   \n",
              "1128433  I was given the Rockrok 3D VR Glasses Headset ...   \n",
              "1128434  Super Fun! The RockRoc 3d vr headset is waaaay...   \n",
              "1128435  Love it!\\n\\nI've had other VR glasses which al...   \n",
              "1128436                                          i love it   \n",
              "\n",
              "                                         summary  unixReviewTime vote  \\\n",
              "0            Can't stop won't stop looking at it      1407110400  NaN   \n",
              "1                                              1      1392163200  NaN   \n",
              "2                                       Its okay      1391817600  NaN   \n",
              "3                                           CASE      1391472000  NaN   \n",
              "4                                          Cute!      1391385600  NaN   \n",
              "...                                          ...             ...  ...   \n",
              "1128432                                     Good      1482364800  NaN   \n",
              "1128433                 THE FUTURE IS NOW!!!!!!!      1468540800  NaN   \n",
              "1128434  Get more out of your smartphone .......      1468454400  NaN   \n",
              "1128435                   Join the VR fun train!      1468368000  NaN   \n",
              "1128436                               Five Stars      1494460800  NaN   \n",
              "\n",
              "                                                     image  \n",
              "0                                                      NaN  \n",
              "1                                                      NaN  \n",
              "2                                                      NaN  \n",
              "3                                                      NaN  \n",
              "4                                                      NaN  \n",
              "...                                                    ...  \n",
              "1128432                                                NaN  \n",
              "1128433                                                NaN  \n",
              "1128434  ['https://images-na.ssl-images-amazon.com/imag...  \n",
              "1128435                                                NaN  \n",
              "1128436                                                NaN  \n",
              "\n",
              "[1128437 rows x 12 columns]>"
            ]
          },
          "execution_count": 13,
          "metadata": {},
          "output_type": "execute_result"
        }
      ],
      "source": [
        "df.info"
      ]
    },
    {
      "cell_type": "code",
      "execution_count": null,
      "id": "fd072c46",
      "metadata": {
        "id": "fd072c46",
        "outputId": "33a6f3a4-66e8-40d6-e788-b7100c17dea8"
      },
      "outputs": [
        {
          "data": {
            "text/html": [
              "<div>\n",
              "<style scoped>\n",
              "    .dataframe tbody tr th:only-of-type {\n",
              "        vertical-align: middle;\n",
              "    }\n",
              "\n",
              "    .dataframe tbody tr th {\n",
              "        vertical-align: top;\n",
              "    }\n",
              "\n",
              "    .dataframe thead th {\n",
              "        text-align: right;\n",
              "    }\n",
              "</style>\n",
              "<table border=\"1\" class=\"dataframe\">\n",
              "  <thead>\n",
              "    <tr style=\"text-align: right;\">\n",
              "      <th></th>\n",
              "      <th>overall</th>\n",
              "      <th>verified</th>\n",
              "      <th>reviewTime</th>\n",
              "      <th>reviewerID</th>\n",
              "      <th>asin</th>\n",
              "      <th>style</th>\n",
              "      <th>reviewerName</th>\n",
              "      <th>reviewText</th>\n",
              "      <th>summary</th>\n",
              "      <th>unixReviewTime</th>\n",
              "      <th>vote</th>\n",
              "      <th>image</th>\n",
              "    </tr>\n",
              "  </thead>\n",
              "  <tbody>\n",
              "    <tr>\n",
              "      <th>0</th>\n",
              "      <td>5</td>\n",
              "      <td>True</td>\n",
              "      <td>08 4, 2014</td>\n",
              "      <td>A24E3SXTC62LJI</td>\n",
              "      <td>7508492919</td>\n",
              "      <td>{'Color:': ' Bling'}</td>\n",
              "      <td>Claudia Valdivia</td>\n",
              "      <td>Looks even better in person. Be careful to not...</td>\n",
              "      <td>Can't stop won't stop looking at it</td>\n",
              "      <td>1407110400</td>\n",
              "      <td>NaN</td>\n",
              "      <td>NaN</td>\n",
              "    </tr>\n",
              "    <tr>\n",
              "      <th>1</th>\n",
              "      <td>5</td>\n",
              "      <td>True</td>\n",
              "      <td>02 12, 2014</td>\n",
              "      <td>A269FLZCB4GIPV</td>\n",
              "      <td>7508492919</td>\n",
              "      <td>NaN</td>\n",
              "      <td>sarah ponce</td>\n",
              "      <td>When you don't want to spend a whole lot of ca...</td>\n",
              "      <td>1</td>\n",
              "      <td>1392163200</td>\n",
              "      <td>NaN</td>\n",
              "      <td>NaN</td>\n",
              "    </tr>\n",
              "    <tr>\n",
              "      <th>2</th>\n",
              "      <td>3</td>\n",
              "      <td>True</td>\n",
              "      <td>02 8, 2014</td>\n",
              "      <td>AB6CHQWHZW4TV</td>\n",
              "      <td>7508492919</td>\n",
              "      <td>NaN</td>\n",
              "      <td>Kai</td>\n",
              "      <td>so the case came on time, i love the design. I...</td>\n",
              "      <td>Its okay</td>\n",
              "      <td>1391817600</td>\n",
              "      <td>NaN</td>\n",
              "      <td>NaN</td>\n",
              "    </tr>\n",
              "    <tr>\n",
              "      <th>3</th>\n",
              "      <td>2</td>\n",
              "      <td>True</td>\n",
              "      <td>02 4, 2014</td>\n",
              "      <td>A1M117A53LEI8</td>\n",
              "      <td>7508492919</td>\n",
              "      <td>NaN</td>\n",
              "      <td>Sharon Williams</td>\n",
              "      <td>DON'T CARE FOR IT.  GAVE IT AS A GIFT AND THEY...</td>\n",
              "      <td>CASE</td>\n",
              "      <td>1391472000</td>\n",
              "      <td>NaN</td>\n",
              "      <td>NaN</td>\n",
              "    </tr>\n",
              "    <tr>\n",
              "      <th>4</th>\n",
              "      <td>4</td>\n",
              "      <td>True</td>\n",
              "      <td>02 3, 2014</td>\n",
              "      <td>A272DUT8M88ZS8</td>\n",
              "      <td>7508492919</td>\n",
              "      <td>NaN</td>\n",
              "      <td>Bella Rodriguez</td>\n",
              "      <td>I liked it because it was cute, but the studs ...</td>\n",
              "      <td>Cute!</td>\n",
              "      <td>1391385600</td>\n",
              "      <td>NaN</td>\n",
              "      <td>NaN</td>\n",
              "    </tr>\n",
              "  </tbody>\n",
              "</table>\n",
              "</div>"
            ],
            "text/plain": [
              "   overall  verified   reviewTime      reviewerID        asin  \\\n",
              "0        5      True   08 4, 2014  A24E3SXTC62LJI  7508492919   \n",
              "1        5      True  02 12, 2014  A269FLZCB4GIPV  7508492919   \n",
              "2        3      True   02 8, 2014   AB6CHQWHZW4TV  7508492919   \n",
              "3        2      True   02 4, 2014   A1M117A53LEI8  7508492919   \n",
              "4        4      True   02 3, 2014  A272DUT8M88ZS8  7508492919   \n",
              "\n",
              "                  style      reviewerName  \\\n",
              "0  {'Color:': ' Bling'}  Claudia Valdivia   \n",
              "1                   NaN       sarah ponce   \n",
              "2                   NaN               Kai   \n",
              "3                   NaN   Sharon Williams   \n",
              "4                   NaN   Bella Rodriguez   \n",
              "\n",
              "                                          reviewText  \\\n",
              "0  Looks even better in person. Be careful to not...   \n",
              "1  When you don't want to spend a whole lot of ca...   \n",
              "2  so the case came on time, i love the design. I...   \n",
              "3  DON'T CARE FOR IT.  GAVE IT AS A GIFT AND THEY...   \n",
              "4  I liked it because it was cute, but the studs ...   \n",
              "\n",
              "                               summary  unixReviewTime vote image  \n",
              "0  Can't stop won't stop looking at it      1407110400  NaN   NaN  \n",
              "1                                    1      1392163200  NaN   NaN  \n",
              "2                             Its okay      1391817600  NaN   NaN  \n",
              "3                                 CASE      1391472000  NaN   NaN  \n",
              "4                                Cute!      1391385600  NaN   NaN  "
            ]
          },
          "execution_count": 14,
          "metadata": {},
          "output_type": "execute_result"
        }
      ],
      "source": [
        "df.head(5)"
      ]
    },
    {
      "cell_type": "code",
      "execution_count": null,
      "id": "e5cbdfaf",
      "metadata": {
        "id": "e5cbdfaf",
        "outputId": "3466a93f-8430-477b-ed58-904fd8c30896"
      },
      "outputs": [
        {
          "data": {
            "text/plain": [
              "<bound method NDFrame.describe of          overall  verified   reviewTime      reviewerID        asin  \\\n",
              "0              5      True   08 4, 2014  A24E3SXTC62LJI  7508492919   \n",
              "1              5      True  02 12, 2014  A269FLZCB4GIPV  7508492919   \n",
              "2              3      True   02 8, 2014   AB6CHQWHZW4TV  7508492919   \n",
              "3              2      True   02 4, 2014   A1M117A53LEI8  7508492919   \n",
              "4              4      True   02 3, 2014  A272DUT8M88ZS8  7508492919   \n",
              "...          ...       ...          ...             ...         ...   \n",
              "1128432        4      True  12 22, 2016  A1QWMCG1FNEP3A  B01HJC7N4C   \n",
              "1128433        5     False  07 15, 2016  A3FOBEJ9UVUTR3  B01HJC7N4C   \n",
              "1128434        5     False  07 14, 2016   AMUEAMKB4E33M  B01HJC7N4C   \n",
              "1128435        5     False  07 13, 2016  A2EV91MMOJ3IL4  B01HJC7N4C   \n",
              "1128436        5      True  05 11, 2017   ARKQD9Z1VPOV2  B01HJH9IN6   \n",
              "\n",
              "                        style      reviewerName  \\\n",
              "0        {'Color:': ' Bling'}  Claudia Valdivia   \n",
              "1                         NaN       sarah ponce   \n",
              "2                         NaN               Kai   \n",
              "3                         NaN   Sharon Williams   \n",
              "4                         NaN   Bella Rodriguez   \n",
              "...                       ...               ...   \n",
              "1128432                   NaN   Amazon Customer   \n",
              "1128433                   NaN      David Harlow   \n",
              "1128434                   NaN             Tom D   \n",
              "1128435                   NaN          Timber12   \n",
              "1128436                   NaN         Malfacini   \n",
              "\n",
              "                                                reviewText  \\\n",
              "0        Looks even better in person. Be careful to not...   \n",
              "1        When you don't want to spend a whole lot of ca...   \n",
              "2        so the case came on time, i love the design. I...   \n",
              "3        DON'T CARE FOR IT.  GAVE IT AS A GIFT AND THEY...   \n",
              "4        I liked it because it was cute, but the studs ...   \n",
              "...                                                    ...   \n",
              "1128432  Good for viewing. But doesn't have a button or...   \n",
              "1128433  I was given the Rockrok 3D VR Glasses Headset ...   \n",
              "1128434  Super Fun! The RockRoc 3d vr headset is waaaay...   \n",
              "1128435  Love it!\\n\\nI've had other VR glasses which al...   \n",
              "1128436                                          i love it   \n",
              "\n",
              "                                         summary  unixReviewTime vote  \\\n",
              "0            Can't stop won't stop looking at it      1407110400  NaN   \n",
              "1                                              1      1392163200  NaN   \n",
              "2                                       Its okay      1391817600  NaN   \n",
              "3                                           CASE      1391472000  NaN   \n",
              "4                                          Cute!      1391385600  NaN   \n",
              "...                                          ...             ...  ...   \n",
              "1128432                                     Good      1482364800  NaN   \n",
              "1128433                 THE FUTURE IS NOW!!!!!!!      1468540800  NaN   \n",
              "1128434  Get more out of your smartphone .......      1468454400  NaN   \n",
              "1128435                   Join the VR fun train!      1468368000  NaN   \n",
              "1128436                               Five Stars      1494460800  NaN   \n",
              "\n",
              "                                                     image  \n",
              "0                                                      NaN  \n",
              "1                                                      NaN  \n",
              "2                                                      NaN  \n",
              "3                                                      NaN  \n",
              "4                                                      NaN  \n",
              "...                                                    ...  \n",
              "1128432                                                NaN  \n",
              "1128433                                                NaN  \n",
              "1128434  ['https://images-na.ssl-images-amazon.com/imag...  \n",
              "1128435                                                NaN  \n",
              "1128436                                                NaN  \n",
              "\n",
              "[1128437 rows x 12 columns]>"
            ]
          },
          "execution_count": 15,
          "metadata": {},
          "output_type": "execute_result"
        }
      ],
      "source": [
        "df.describe"
      ]
    },
    {
      "cell_type": "code",
      "execution_count": null,
      "id": "70a32def",
      "metadata": {
        "id": "70a32def",
        "outputId": "7e81bce9-6cfc-477f-cd67-370efb7dfedf"
      },
      "outputs": [
        {
          "name": "stdout",
          "output_type": "stream",
          "text": [
            "Index(['reviewTime', 'reviewerID', 'asin', 'style', 'reviewerName',\n",
            "       'reviewText', 'summary', 'vote', 'image'],\n",
            "      dtype='object')\n"
          ]
        },
        {
          "data": {
            "text/plain": [
              "<bound method NDFrame.describe of           reviewTime      reviewerID        asin                 style  \\\n",
              "0         08 4, 2014  A24E3SXTC62LJI  7508492919  {'Color:': ' Bling'}   \n",
              "1        02 12, 2014  A269FLZCB4GIPV  7508492919                   NaN   \n",
              "2         02 8, 2014   AB6CHQWHZW4TV  7508492919                   NaN   \n",
              "3         02 4, 2014   A1M117A53LEI8  7508492919                   NaN   \n",
              "4         02 3, 2014  A272DUT8M88ZS8  7508492919                   NaN   \n",
              "...              ...             ...         ...                   ...   \n",
              "1128432  12 22, 2016  A1QWMCG1FNEP3A  B01HJC7N4C                   NaN   \n",
              "1128433  07 15, 2016  A3FOBEJ9UVUTR3  B01HJC7N4C                   NaN   \n",
              "1128434  07 14, 2016   AMUEAMKB4E33M  B01HJC7N4C                   NaN   \n",
              "1128435  07 13, 2016  A2EV91MMOJ3IL4  B01HJC7N4C                   NaN   \n",
              "1128436  05 11, 2017   ARKQD9Z1VPOV2  B01HJH9IN6                   NaN   \n",
              "\n",
              "             reviewerName                                         reviewText  \\\n",
              "0        Claudia Valdivia  Looks even better in person. Be careful to not...   \n",
              "1             sarah ponce  When you don't want to spend a whole lot of ca...   \n",
              "2                     Kai  so the case came on time, i love the design. I...   \n",
              "3         Sharon Williams  DON'T CARE FOR IT.  GAVE IT AS A GIFT AND THEY...   \n",
              "4         Bella Rodriguez  I liked it because it was cute, but the studs ...   \n",
              "...                   ...                                                ...   \n",
              "1128432   Amazon Customer  Good for viewing. But doesn't have a button or...   \n",
              "1128433      David Harlow  I was given the Rockrok 3D VR Glasses Headset ...   \n",
              "1128434             Tom D  Super Fun! The RockRoc 3d vr headset is waaaay...   \n",
              "1128435          Timber12  Love it!\\n\\nI've had other VR glasses which al...   \n",
              "1128436         Malfacini                                          i love it   \n",
              "\n",
              "                                         summary vote  \\\n",
              "0            Can't stop won't stop looking at it  NaN   \n",
              "1                                              1  NaN   \n",
              "2                                       Its okay  NaN   \n",
              "3                                           CASE  NaN   \n",
              "4                                          Cute!  NaN   \n",
              "...                                          ...  ...   \n",
              "1128432                                     Good  NaN   \n",
              "1128433                 THE FUTURE IS NOW!!!!!!!  NaN   \n",
              "1128434  Get more out of your smartphone .......  NaN   \n",
              "1128435                   Join the VR fun train!  NaN   \n",
              "1128436                               Five Stars  NaN   \n",
              "\n",
              "                                                     image  \n",
              "0                                                      NaN  \n",
              "1                                                      NaN  \n",
              "2                                                      NaN  \n",
              "3                                                      NaN  \n",
              "4                                                      NaN  \n",
              "...                                                    ...  \n",
              "1128432                                                NaN  \n",
              "1128433                                                NaN  \n",
              "1128434  ['https://images-na.ssl-images-amazon.com/imag...  \n",
              "1128435                                                NaN  \n",
              "1128436                                                NaN  \n",
              "\n",
              "[1128437 rows x 9 columns]>"
            ]
          },
          "execution_count": 17,
          "metadata": {},
          "output_type": "execute_result"
        }
      ],
      "source": [
        "categorical = df.dtypes[df.dtypes == \"object\"].index\n",
        "print(categorical)\n",
        "df[categorical].describe"
      ]
    },
    {
      "cell_type": "code",
      "execution_count": null,
      "id": "61fa8996",
      "metadata": {
        "id": "61fa8996",
        "outputId": "1fdb1fc7-9a0c-4c8f-b67b-558f2f09e3ff"
      },
      "outputs": [
        {
          "data": {
            "text/plain": [
              "0     Looks even better in person. Be careful to not...\n",
              "1     When you don't want to spend a whole lot of ca...\n",
              "2     so the case came on time, i love the design. I...\n",
              "3     DON'T CARE FOR IT.  GAVE IT AS A GIFT AND THEY...\n",
              "4     I liked it because it was cute, but the studs ...\n",
              "5     The product looked exactly like the picture an...\n",
              "6     I FINALLY got my case today. It took forever t...\n",
              "7     It is a very cute case. None of the jewels hav...\n",
              "8     DO NOT BUY! this item is seriously cheap as he...\n",
              "9     I really love this case... you have to keep yo...\n",
              "10    its super cute and makes my phone pretting and...\n",
              "11    Another great product that my daughter she use...\n",
              "12    Very cheap broke the first time we put it on :...\n",
              "13    I purchased this for my grand-daughters phone....\n",
              "14    Beautiful quality and outstanding product! Eve...\n",
              "Name: reviewText, dtype: object"
            ]
          },
          "execution_count": 18,
          "metadata": {},
          "output_type": "execute_result"
        }
      ],
      "source": [
        "df[\"reviewText\"][0:15]"
      ]
    },
    {
      "cell_type": "code",
      "execution_count": null,
      "id": "5d9f45fd",
      "metadata": {
        "id": "5d9f45fd",
        "outputId": "5202f06e-5313-4e55-a453-077f8d0f4b39"
      },
      "outputs": [
        {
          "data": {
            "text/plain": [
              "<bound method NDFrame.describe of 0          5\n",
              "1          5\n",
              "2          3\n",
              "3          2\n",
              "4          4\n",
              "          ..\n",
              "1128432    4\n",
              "1128433    5\n",
              "1128434    5\n",
              "1128435    5\n",
              "1128436    5\n",
              "Name: overall, Length: 1128437, dtype: int64>"
            ]
          },
          "execution_count": 19,
          "metadata": {},
          "output_type": "execute_result"
        }
      ],
      "source": [
        "df[\"overall\"].describe"
      ]
    },
    {
      "cell_type": "code",
      "execution_count": null,
      "id": "b0a8bfed",
      "metadata": {
        "id": "b0a8bfed",
        "outputId": "a7185750-2ee6-4681-f0f2-c11707dad834"
      },
      "outputs": [
        {
          "data": {
            "text/plain": [
              "<bound method Series.unique of 0          5\n",
              "1          5\n",
              "2          3\n",
              "3          2\n",
              "4          4\n",
              "          ..\n",
              "1128432    4\n",
              "1128433    5\n",
              "1128434    5\n",
              "1128435    5\n",
              "1128436    5\n",
              "Name: overall, Length: 1128437, dtype: int64>"
            ]
          },
          "execution_count": 20,
          "metadata": {},
          "output_type": "execute_result"
        }
      ],
      "source": [
        "df[\"overall\"].unique"
      ]
    },
    {
      "cell_type": "code",
      "execution_count": null,
      "id": "5e44eea1",
      "metadata": {
        "id": "5e44eea1",
        "outputId": "dc671a33-8127-4639-a4a3-2acad0e73679"
      },
      "outputs": [
        {
          "data": {
            "text/plain": [
              "array([[<matplotlib.axes._subplots.AxesSubplot object at 0x7fea48b0e970>]],\n",
              "      dtype=object)"
            ]
          },
          "execution_count": 21,
          "metadata": {},
          "output_type": "execute_result"
        },
        {
          "data": {
            "image/png": "[encoded data removed]",
            "text/plain": [
              "<Figure size 648x432 with 1 Axes>"
            ]
          },
          "metadata": {
            "needs_background": "light"
          },
          "output_type": "display_data"
        }
      ],
      "source": [
        "import matplotlib.pyplot as plt\n",
        "df.hist(column='overall',\n",
        "        figsize=(9,6),\n",
        "        bins=20)"
      ]
    },
    {
      "cell_type": "code",
      "execution_count": null,
      "id": "ef5dce90",
      "metadata": {
        "id": "ef5dce90"
      },
      "outputs": [],
      "source": [
        "df=df[[\"overall\",\"verified\",\"reviewText\"]]"
      ]
    },
    {
      "cell_type": "code",
      "execution_count": null,
      "id": "e97ba866",
      "metadata": {
        "id": "e97ba866",
        "outputId": "fffcf7b0-0b8a-44b9-df10-e846b878c5c0"
      },
      "outputs": [
        {
          "data": {
            "text/html": [
              "<div>\n",
              "<style scoped>\n",
              "    .dataframe tbody tr th:only-of-type {\n",
              "        vertical-align: middle;\n",
              "    }\n",
              "\n",
              "    .dataframe tbody tr th {\n",
              "        vertical-align: top;\n",
              "    }\n",
              "\n",
              "    .dataframe thead th {\n",
              "        text-align: right;\n",
              "    }\n",
              "</style>\n",
              "<table border=\"1\" class=\"dataframe\">\n",
              "  <thead>\n",
              "    <tr style=\"text-align: right;\">\n",
              "      <th></th>\n",
              "      <th>overall</th>\n",
              "      <th>verified</th>\n",
              "      <th>reviewText</th>\n",
              "    </tr>\n",
              "  </thead>\n",
              "  <tbody>\n",
              "    <tr>\n",
              "      <th>0</th>\n",
              "      <td>5</td>\n",
              "      <td>True</td>\n",
              "      <td>Looks even better in person. Be careful to not...</td>\n",
              "    </tr>\n",
              "    <tr>\n",
              "      <th>1</th>\n",
              "      <td>5</td>\n",
              "      <td>True</td>\n",
              "      <td>When you don't want to spend a whole lot of ca...</td>\n",
              "    </tr>\n",
              "    <tr>\n",
              "      <th>2</th>\n",
              "      <td>3</td>\n",
              "      <td>True</td>\n",
              "      <td>so the case came on time, i love the design. I...</td>\n",
              "    </tr>\n",
              "    <tr>\n",
              "      <th>3</th>\n",
              "      <td>2</td>\n",
              "      <td>True</td>\n",
              "      <td>DON'T CARE FOR IT.  GAVE IT AS A GIFT AND THEY...</td>\n",
              "    </tr>\n",
              "    <tr>\n",
              "      <th>4</th>\n",
              "      <td>4</td>\n",
              "      <td>True</td>\n",
              "      <td>I liked it because it was cute, but the studs ...</td>\n",
              "    </tr>\n",
              "    <tr>\n",
              "      <th>...</th>\n",
              "      <td>...</td>\n",
              "      <td>...</td>\n",
              "      <td>...</td>\n",
              "    </tr>\n",
              "    <tr>\n",
              "      <th>1127664</th>\n",
              "      <td>4</td>\n",
              "      <td>True</td>\n",
              "      <td>Good for viewing. But doesn't have a button or...</td>\n",
              "    </tr>\n",
              "    <tr>\n",
              "      <th>1127665</th>\n",
              "      <td>5</td>\n",
              "      <td>False</td>\n",
              "      <td>I was given the Rockrok 3D VR Glasses Headset ...</td>\n",
              "    </tr>\n",
              "    <tr>\n",
              "      <th>1127666</th>\n",
              "      <td>5</td>\n",
              "      <td>False</td>\n",
              "      <td>Super Fun! The RockRoc 3d vr headset is waaaay...</td>\n",
              "    </tr>\n",
              "    <tr>\n",
              "      <th>1127667</th>\n",
              "      <td>5</td>\n",
              "      <td>False</td>\n",
              "      <td>Love it!\\n\\nI've had other VR glasses which al...</td>\n",
              "    </tr>\n",
              "    <tr>\n",
              "      <th>1127668</th>\n",
              "      <td>5</td>\n",
              "      <td>True</td>\n",
              "      <td>i love it</td>\n",
              "    </tr>\n",
              "  </tbody>\n",
              "</table>\n",
              "<p>1127669 rows × 3 columns</p>\n",
              "</div>"
            ],
            "text/plain": [
              "         overall  verified                                         reviewText\n",
              "0              5      True  Looks even better in person. Be careful to not...\n",
              "1              5      True  When you don't want to spend a whole lot of ca...\n",
              "2              3      True  so the case came on time, i love the design. I...\n",
              "3              2      True  DON'T CARE FOR IT.  GAVE IT AS A GIFT AND THEY...\n",
              "4              4      True  I liked it because it was cute, but the studs ...\n",
              "...          ...       ...                                                ...\n",
              "1127664        4      True  Good for viewing. But doesn't have a button or...\n",
              "1127665        5     False  I was given the Rockrok 3D VR Glasses Headset ...\n",
              "1127666        5     False  Super Fun! The RockRoc 3d vr headset is waaaay...\n",
              "1127667        5     False  Love it!\\n\\nI've had other VR glasses which al...\n",
              "1127668        5      True                                          i love it\n",
              "\n",
              "[1127669 rows x 3 columns]"
            ]
          },
          "execution_count": 25,
          "metadata": {},
          "output_type": "execute_result"
        }
      ],
      "source": [
        "df=df.dropna()\n",
        "df = df.reset_index(drop=True)\n",
        "df"
      ]
    },
    {
      "cell_type": "code",
      "execution_count": null,
      "id": "2f6095e9",
      "metadata": {
        "id": "2f6095e9"
      },
      "outputs": [],
      "source": [
        "df = df[df['verified'] == True]"
      ]
    },
    {
      "cell_type": "code",
      "execution_count": null,
      "id": "e24900b8",
      "metadata": {
        "id": "e24900b8",
        "outputId": "8fdad321-36ce-4192-df63-2c35e9633bf8"
      },
      "outputs": [
        {
          "name": "stdout",
          "output_type": "stream",
          "text": [
            "         overall  verified                                         reviewText\n",
            "0              5      True  Looks even better in person. Be careful to not...\n",
            "1              5      True  When you don't want to spend a whole lot of ca...\n",
            "2              3      True  so the case came on time, i love the design. I...\n",
            "3              2      True  DON'T CARE FOR IT.  GAVE IT AS A GIFT AND THEY...\n",
            "4              4      True  I liked it because it was cute, but the studs ...\n",
            "...          ...       ...                                                ...\n",
            "1127661        4      True  Very good cell phone holster.  Keeps my phone ...\n",
            "1127662        1      True  Mediocre case protection. Clip is junk. Broke/...\n",
            "1127663        3      True   my sons likes it. For the price it isn't too bad\n",
            "1127664        4      True  Good for viewing. But doesn't have a button or...\n",
            "1127668        5      True                                          i love it\n",
            "\n",
            "[986586 rows x 3 columns]\n"
          ]
        }
      ],
      "source": [
        "print(df)"
      ]
    },
    {
      "cell_type": "code",
      "execution_count": null,
      "id": "63be4182",
      "metadata": {
        "id": "63be4182",
        "outputId": "5d066fd5-90b9-4661-8147-4e4bfcc064d4"
      },
      "outputs": [
        {
          "data": {
            "text/plain": [
              "<bound method Series.unique of 0          True\n",
              "1          True\n",
              "2          True\n",
              "3          True\n",
              "4          True\n",
              "           ... \n",
              "1127661    True\n",
              "1127662    True\n",
              "1127663    True\n",
              "1127664    True\n",
              "1127668    True\n",
              "Name: verified, Length: 986586, dtype: bool>"
            ]
          },
          "execution_count": 28,
          "metadata": {},
          "output_type": "execute_result"
        }
      ],
      "source": [
        "df[\"verified\"].unique"
      ]
    },
    {
      "cell_type": "code",
      "execution_count": null,
      "id": "c6f2b9dd",
      "metadata": {
        "id": "c6f2b9dd"
      },
      "outputs": [],
      "source": [
        "df=df[[\"overall\",\"reviewText\"]]"
      ]
    },
    {
      "cell_type": "code",
      "execution_count": null,
      "id": "dc7ac810",
      "metadata": {
        "id": "dc7ac810",
        "outputId": "06c54c02-8025-4a38-cf03-ae5c8ceede75"
      },
      "outputs": [
        {
          "name": "stdout",
          "output_type": "stream",
          "text": [
            "         overall                                         reviewText\n",
            "0              5  Looks even better in person. Be careful to not...\n",
            "1              5  When you don't want to spend a whole lot of ca...\n",
            "2              3  so the case came on time, i love the design. I...\n",
            "3              2  DON'T CARE FOR IT.  GAVE IT AS A GIFT AND THEY...\n",
            "4              4  I liked it because it was cute, but the studs ...\n",
            "...          ...                                                ...\n",
            "1127661        4  Very good cell phone holster.  Keeps my phone ...\n",
            "1127662        1  Mediocre case protection. Clip is junk. Broke/...\n",
            "1127663        3   my sons likes it. For the price it isn't too bad\n",
            "1127664        4  Good for viewing. But doesn't have a button or...\n",
            "1127668        5                                          i love it\n",
            "\n",
            "[986586 rows x 2 columns]\n"
          ]
        }
      ],
      "source": [
        "print(df)"
      ]
    },
    {
      "cell_type": "code",
      "execution_count": null,
      "id": "22fdd49c",
      "metadata": {
        "id": "22fdd49c",
        "outputId": "5e6d4f49-9603-466d-b27f-c7f2efe946a2"
      },
      "outputs": [
        {
          "data": {
            "text/plain": [
              "<bound method NDFrame.describe of 0          5\n",
              "1          5\n",
              "2          3\n",
              "3          2\n",
              "4          4\n",
              "          ..\n",
              "1127661    4\n",
              "1127662    1\n",
              "1127663    3\n",
              "1127664    4\n",
              "1127668    5\n",
              "Name: overall, Length: 986586, dtype: int64>"
            ]
          },
          "execution_count": 31,
          "metadata": {},
          "output_type": "execute_result"
        }
      ],
      "source": [
        "df[\"overall\"].describe"
      ]
    },
    {
      "cell_type": "code",
      "execution_count": null,
      "id": "f0ae2539",
      "metadata": {
        "id": "f0ae2539"
      },
      "outputs": [],
      "source": [
        "df[\"overall\"]=df[\"overall\"].astype(int)"
      ]
    },
    {
      "cell_type": "code",
      "execution_count": null,
      "id": "c2bd81a7",
      "metadata": {
        "id": "c2bd81a7"
      },
      "outputs": [],
      "source": [
        "df=df[df[\"overall\"]!=3]\n",
        "df[\"label\"]=np.where(df[\"overall\"]>=4,1,0)"
      ]
    },
    {
      "cell_type": "code",
      "execution_count": null,
      "id": "e8d7547f",
      "metadata": {
        "id": "e8d7547f",
        "outputId": "33d1e677-703f-40b3-9376-47360cf0063d"
      },
      "outputs": [
        {
          "name": "stdout",
          "output_type": "stream",
          "text": [
            "         overall                                         reviewText  label\n",
            "0              5  Looks even better in person. Be careful to not...      1\n",
            "1              5  When you don't want to spend a whole lot of ca...      1\n",
            "3              2  DON'T CARE FOR IT.  GAVE IT AS A GIFT AND THEY...      0\n",
            "4              4  I liked it because it was cute, but the studs ...      1\n",
            "5              2  The product looked exactly like the picture an...      0\n",
            "...          ...                                                ...    ...\n",
            "1127660        5  Wouldn't be able to live without it. Strong ma...      1\n",
            "1127661        4  Very good cell phone holster.  Keeps my phone ...      1\n",
            "1127662        1  Mediocre case protection. Clip is junk. Broke/...      0\n",
            "1127664        4  Good for viewing. But doesn't have a button or...      1\n",
            "1127668        5                                          i love it      1\n",
            "\n",
            "[898687 rows x 3 columns]\n"
          ]
        }
      ],
      "source": [
        "print(df)"
      ]
    },
    {
      "cell_type": "code",
      "execution_count": null,
      "id": "2ecab580",
      "metadata": {
        "id": "2ecab580",
        "outputId": "0e52e4bd-a01a-4688-96d4-06978a7ebcd6"
      },
      "outputs": [
        {
          "data": {
            "text/plain": [
              "<bound method Series.unique of 0          5\n",
              "1          5\n",
              "3          2\n",
              "4          4\n",
              "5          2\n",
              "          ..\n",
              "1127660    5\n",
              "1127661    4\n",
              "1127662    1\n",
              "1127664    4\n",
              "1127668    5\n",
              "Name: overall, Length: 898687, dtype: int64>"
            ]
          },
          "execution_count": 37,
          "metadata": {},
          "output_type": "execute_result"
        }
      ],
      "source": [
        "df[\"overall\"].unique"
      ]
    },
    {
      "cell_type": "code",
      "execution_count": null,
      "id": "4188b1c6",
      "metadata": {
        "id": "4188b1c6",
        "outputId": "b6776720-9bbc-4cbb-9d0e-ab95e31755d9"
      },
      "outputs": [
        {
          "data": {
            "text/plain": [
              "5    615664\n",
              "4    157812\n",
              "1     73755\n",
              "2     51456\n",
              "Name: overall, dtype: int64"
            ]
          },
          "execution_count": 39,
          "metadata": {},
          "output_type": "execute_result"
        }
      ],
      "source": [
        "df[\"overall\"].value_counts()"
      ]
    },
    {
      "cell_type": "code",
      "execution_count": null,
      "id": "baa7aa76",
      "metadata": {
        "id": "baa7aa76"
      },
      "outputs": [],
      "source": [
        "df[\"reviewText\"] = df[\"reviewText\"].str.lower()"
      ]
    },
    {
      "cell_type": "code",
      "execution_count": null,
      "id": "22b733a8",
      "metadata": {
        "id": "22b733a8",
        "outputId": "ef5392b2-1f19-467b-940c-cd7d14742ce8"
      },
      "outputs": [
        {
          "name": "stdout",
          "output_type": "stream",
          "text": [
            "         overall                                         reviewText  label\n",
            "0              5  looks even better in person. be careful to not...      1\n",
            "1              5  when you don't want to spend a whole lot of ca...      1\n",
            "3              2  don't care for it.  gave it as a gift and they...      0\n",
            "4              4  i liked it because it was cute, but the studs ...      1\n",
            "5              2  the product looked exactly like the picture an...      0\n",
            "...          ...                                                ...    ...\n",
            "1127660        5  wouldn't be able to live without it. strong ma...      1\n",
            "1127661        4  very good cell phone holster.  keeps my phone ...      1\n",
            "1127662        1  mediocre case protection. clip is junk. broke/...      0\n",
            "1127664        4  good for viewing. but doesn't have a button or...      1\n",
            "1127668        5                                          i love it      1\n",
            "\n",
            "[898687 rows x 3 columns]\n"
          ]
        }
      ],
      "source": [
        "print(df)"
      ]
    },
    {
      "cell_type": "code",
      "execution_count": null,
      "id": "a9395ea3",
      "metadata": {
        "id": "a9395ea3"
      },
      "outputs": [],
      "source": []
    }
  ],
  "metadata": {
    "kernelspec": {
      "display_name": "Python 3 (ipykernel)",
      "language": "python",
      "name": "python3"
    },
    "language_info": {
      "codemirror_mode": {
        "name": "ipython",
        "version": 3
      },
      "file_extension": ".py",
      "mimetype": "text/x-python",
      "name": "python",
      "nbconvert_exporter": "python",
      "pygments_lexer": "ipython3",
      "version": "3.8.10"
    },
    "colab": {
      "provenance": [],
      "include_colab_link": true
    }
  },
  "nbformat": 4,
  "nbformat_minor": 5
}